{
 "cells": [
  {
   "cell_type": "code",
   "execution_count": 1,
   "id": "53360b89",
   "metadata": {},
   "outputs": [
    {
     "name": "stdout",
     "output_type": "stream",
     "text": [
      "439 companies are present in the data!\n"
     ]
    }
   ],
   "source": [
    "import numpy as np\n",
    "import pandas as pd\n",
    "import csv\n",
    "import matplotlib.pyplot as plt\n",
    "\n",
    "myD=pd.read_csv(\"Value_of_Energy_Cost_Savings_Program_Savings_for_Businesses_-_FY2020.csv\")\n",
    "\n",
    "c1=myD.columns;\n",
    "print(\"%d companies are present in the data!\"%(len(myD['Company Name'].unique())))"
   ]
  },
  {
   "cell_type": "code",
   "execution_count": 2,
   "id": "011f6850",
   "metadata": {},
   "outputs": [
    {
     "name": "stdout",
     "output_type": "stream",
     "text": [
      "There are 90 jobs created in Queens!\n"
     ]
    }
   ],
   "source": [
    "n=len(myD[c1[1]])\n",
    "DQ_JC=myD[myD['City']==\"Queens\"]['Job created'].sum()\n",
    "print(\"There are %d jobs created in Queens!\"%(DQ_JC))"
   ]
  },
  {
   "cell_type": "code",
   "execution_count": 3,
   "id": "9406ff6f",
   "metadata": {},
   "outputs": [
    {
     "name": "stdout",
     "output_type": "stream",
     "text": [
      "There are 421 different email domain set!\n"
     ]
    }
   ],
   "source": [
    "EMD=len(myD['company email'].unique())\n",
    "print(\"There are %d different email domain set!\"%(EMD))"
   ]
  },
  {
   "cell_type": "code",
   "execution_count": 4,
   "id": "cb0e8695",
   "metadata": {},
   "outputs": [],
   "source": [
    "NTAU=myD['NTA'].value_counts(dropna=False)\n",
    "Q=[NTAU[x] for x in myD['NTA']]\n",
    "myD.insert(len(c1),\"NTA_count\",Q)\n",
    "NTAplus=myD[myD[\"NTA_count\"]>=5]"
   ]
  },
  {
   "cell_type": "code",
   "execution_count": 5,
   "id": "2048265f",
   "metadata": {},
   "outputs": [
    {
     "name": "stdout",
     "output_type": "stream",
     "text": [
      "Average total saving:\n",
      " NTA\n",
      "Battery Park City-Lower Manhattan                   469890.796667\n",
      "Bushwick South                                       26140.455000\n",
      "Carroll Gardens-Columbia Street-Red Hook             24337.390000\n",
      "College Point                                        17159.372857\n",
      "Crown Heights North                                   4036.298889\n",
      "DUMBO-Vinegar Hill-Downtown Brooklyn-Boerum Hill     59950.340000\n",
      "East New York                                        48433.093333\n",
      "East Williamsburg                                    13990.626364\n",
      "Greenpoint                                            9753.649286\n",
      "Hunters Point-Sunnyside-West Maspeth                 23931.398933\n",
      "Hunts Point                                          39246.016154\n",
      "Manhattanville                                        2760.888889\n",
      "Maspeth                                               6658.283333\n",
      "Mott Haven-Port Morris                               17843.937857\n",
      "Queensbridge-Ravenswood-Long Island City             61830.770625\n",
      "SoHo-TriBeCa-Civic Center-Little Italy               37214.024000\n",
      "Springfield Gardens South-Brookville                 17757.662000\n",
      "Steinway                                             11227.155714\n",
      "Sunset Park West                                     14316.976875\n",
      "park-cemetery-etc-Brooklyn                           14327.419333\n",
      "Name: Total Savings, dtype: float64\n"
     ]
    }
   ],
   "source": [
    "TSM=NTAplus.groupby('NTA')['Total Savings'].mean()\n",
    "print(\"Average total saving:\\n\",TSM)"
   ]
  },
  {
   "cell_type": "code",
   "execution_count": 6,
   "id": "1058d5b3",
   "metadata": {},
   "outputs": [
    {
     "name": "stdout",
     "output_type": "stream",
     "text": [
      "Average total jobs created:\n",
      " NTA\n",
      "Battery Park City-Lower Manhattan                    0.000000\n",
      "Bushwick South                                      10.000000\n",
      "Carroll Gardens-Columbia Street-Red Hook             0.000000\n",
      "College Point                                        2.000000\n",
      "Crown Heights North                                  0.000000\n",
      "DUMBO-Vinegar Hill-Downtown Brooklyn-Boerum Hill     0.000000\n",
      "East New York                                       15.000000\n",
      "East Williamsburg                                    0.000000\n",
      "Greenpoint                                           0.000000\n",
      "Hunters Point-Sunnyside-West Maspeth                 0.000000\n",
      "Hunts Point                                         12.000000\n",
      "Manhattanville                                       0.000000\n",
      "Maspeth                                             10.000000\n",
      "Mott Haven-Port Morris                               3.333333\n",
      "Queensbridge-Ravenswood-Long Island City             0.000000\n",
      "SoHo-TriBeCa-Civic Center-Little Italy               0.000000\n",
      "Springfield Gardens South-Brookville                 0.000000\n",
      "Steinway                                            20.000000\n",
      "Sunset Park West                                     0.000000\n",
      "park-cemetery-etc-Brooklyn                           0.000000\n",
      "Name: Job created, dtype: float64\n"
     ]
    }
   ],
   "source": [
    "JCM=NTAplus.groupby('NTA')['Job created'].mean().fillna(0)\n",
    "print(\"Average total jobs created:\\n\",JCM)"
   ]
  },
  {
   "cell_type": "code",
   "execution_count": 7,
   "id": "3ec10c5d",
   "metadata": {},
   "outputs": [],
   "source": [
    "with open(\"output.csv\",'w') as file:\n",
    "    csv.writer(file).writerow(\"%d companies are present in the data!\"%(len(myD['Company Name'].unique())))\n",
    "    csv.writer(file).writerow(\"There are %d jobs created in Queens!\"%(DQ_JC))\n",
    "    csv.writer(file).writerow(\"There are %d different email domain set!\"%(EMD))\n",
    "    csv.writer(file).writerow(\"average total savings for each NTA with at least 5 listed businesses:\")\n",
    "    csv.writer(file).writerow(TSM)\n",
    "    csv.writer(file).writerow(\"average total jobs created for each NTA with at least 5 listed businesses:\")\n",
    "    csv.writer(file).writerow(JCM)"
   ]
  },
  {
   "cell_type": "code",
   "execution_count": 8,
   "id": "5cbe75e3",
   "metadata": {},
   "outputs": [],
   "source": [
    "# scatter plot of jobs created versus average savings. Use both a standard and a logarithmic scale for the average savings."
   ]
  },
  {
   "cell_type": "code",
   "execution_count": 9,
   "id": "8ee2123f",
   "metadata": {},
   "outputs": [
    {
     "data": {
      "image/png": "[encoded data removed]",
      "text/plain": [
       "<Figure size 432x288 with 1 Axes>"
      ]
     },
     "metadata": {
      "needs_background": "light"
     },
     "output_type": "display_data"
    }
   ],
   "source": [
    "y=np.array(myD['Job created']).reshape((n,1))\n",
    "x=np.array(myD['Total Savings']).reshape((n,1))\n",
    "plt.scatter(x,y)\n",
    "plt.yscale('linear')\n",
    "plt.xscale('linear')\n",
    "plt.xlabel('Total Savings')\n",
    "plt.ylabel('Job created')\n",
    "plt.grid('on')"
   ]
  },
  {
   "cell_type": "code",
   "execution_count": 10,
   "id": "14065a6d",
   "metadata": {},
   "outputs": [
    {
     "data": {
      "image/png": "[encoded data removed]",
      "text/plain": [
       "<Figure size 432x288 with 1 Axes>"
      ]
     },
     "metadata": {
      "needs_background": "light"
     },
     "output_type": "display_data"
    }
   ],
   "source": [
    "y=np.array(myD['Job created']).reshape((n,1))\n",
    "x=np.array(myD['Total Savings']).reshape((n,1))\n",
    "plt.scatter(x,y)\n",
    "plt.yscale('linear')\n",
    "plt.xscale('log')\n",
    "plt.xlabel('Total Savings')\n",
    "plt.ylabel('Job created')\n",
    "plt.grid('on')"
   ]
  },
  {
   "cell_type": "code",
   "execution_count": 11,
   "id": "be01529b",
   "metadata": {},
   "outputs": [
    {
     "data": {
      "image/png": "[encoded data removed]",
      "text/plain": [
       "<Figure size 432x288 with 1 Axes>"
      ]
     },
     "metadata": {
      "needs_background": "light"
     },
     "output_type": "display_data"
    }
   ],
   "source": [
    "m=x[x>0]\n",
    "m=np.log(m)\n",
    "#plt.hist(x,log=True)\n",
    "plt.hist(m)\n",
    "plt.xlabel('log of Total Savings')\n",
    "plt.ylabel('count')\n",
    "plt.grid('on')"
   ]
  },
  {
   "cell_type": "code",
   "execution_count": 12,
   "id": "30a9075f",
   "metadata": {},
   "outputs": [],
   "source": [
    "date_a=np.array(myD['Effective Date']).reshape((n,1))\n",
    "mnt=[x[0][0:2] for x in date_a]\n",
    "yr=[x[0][-4:] for x in date_a]\n",
    "myD.insert(len(c1)+1,\"month\",mnt)\n",
    "myD.insert(len(c1)+2,\"year\",yr)\n",
    "#JCM_date=np.array(myD.groupby(['month','year'])['Job created'].sum())\n",
    "#myD.groupby(['month'])[\"Job created\"].sum().plot()\n"
   ]
  },
  {
   "cell_type": "code",
   "execution_count": 13,
   "id": "f5150b82",
   "metadata": {},
   "outputs": [
    {
     "data": {
      "text/plain": [
       "Text(0, 0.5, 'Job created')"
      ]
     },
     "execution_count": 13,
     "metadata": {},
     "output_type": "execute_result"
    },
    {
     "data": {
      "image/png": "[encoded data removed]",
      "text/plain": [
       "<Figure size 432x288 with 1 Axes>"
      ]
     },
     "metadata": {
      "needs_background": "light"
     },
     "output_type": "display_data"
    }
   ],
   "source": [
    "JCM_date=np.array(myD.groupby(['month'])['Job created'].sum())\n",
    "plt.plot(np.arange(1,13),JCM_date)\n",
    "plt.xlabel('Month')\n",
    "plt.ylabel('Job created')"
   ]
  },
  {
   "cell_type": "code",
   "execution_count": null,
   "id": "8f9b3b8a",
   "metadata": {},
   "outputs": [],
   "source": []
  },
  {
   "cell_type": "code",
   "execution_count": null,
   "id": "db79990e",
   "metadata": {},
   "outputs": [],
   "source": []
  }
 ],
 "metadata": {
  "kernelspec": {
   "display_name": "Python 3 (ipykernel)",
   "language": "python",
   "name": "python3"
  },
  "language_info": {
   "codemirror_mode": {
    "name": "ipython",
    "version": 3
   },
   "file_extension": ".py",
   "mimetype": "text/x-python",
   "name": "python",
   "nbconvert_exporter": "python",
   "pygments_lexer": "ipython3",
   "version": "3.9.12"
  }
 },
 "nbformat": 4,
 "nbformat_minor": 5
}
